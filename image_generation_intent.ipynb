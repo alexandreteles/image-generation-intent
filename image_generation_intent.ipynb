{
 "cells": [
  {
   "cell_type": "code",
   "execution_count": null,
   "id": "ce525de1-4c24-4d8e-9633-f4860a926ffa",
   "metadata": {
    "tags": []
   },
   "outputs": [],
   "source": [
    "!pip install nltk\n",
    "!pip install plotly\n",
    "!pip install openml\n",
    "!pip install seaborn\n",
    "!pip install datasets\n",
    "!pip install flaml[automl]\n",
    "!pip install huggingface_hub\n",
    "!pip install optimum[exporters]\n",
    "!pip install install hummingbird_ml[extra]\n",
    "!pip install --extra-index-url=https://pypi.nvidia.com cudf-cu12"
   ]
  },
  {
   "cell_type": "code",
   "execution_count": 1,
   "id": "ae73dbfd-5903-4f18-8236-500cf77a7dfe",
   "metadata": {
    "execution": {
     "iopub.execute_input": "2024-03-01T21:13:11.608817Z",
     "iopub.status.busy": "2024-03-01T21:13:11.608458Z",
     "iopub.status.idle": "2024-03-01T21:13:16.495617Z",
     "shell.execute_reply": "2024-03-01T21:13:16.494959Z",
     "shell.execute_reply.started": "2024-03-01T21:13:11.608788Z"
    },
    "tags": []
   },
   "outputs": [],
   "source": [
    "import cudf\n",
    "import matplotlib.pyplot as plt\n",
    "import nltk\n",
    "import numpy as np\n",
    "import pandas as pd\n",
    "import seaborn as sns\n",
    "from datasets import load_dataset\n",
    "from flaml import AutoML\n",
    "from nltk.corpus import stopwords\n",
    "from nltk.stem import WordNetLemmatizer\n",
    "from nltk.tokenize import word_tokenize\n",
    "from sklearn.feature_extraction.text import CountVectorizer, TfidfVectorizer\n",
    "from sklearn.metrics import (\n",
    "    accuracy_score,\n",
    "    auc,\n",
    "    classification_report,\n",
    "    confusion_matrix,\n",
    "    roc_auc_score,\n",
    "    roc_curve,\n",
    ")\n",
    "from sklearn.model_selection import train_test_split\n",
    "from sklearn.naive_bayes import MultinomialNB"
   ]
  },
  {
   "cell_type": "code",
   "execution_count": 4,
   "id": "36ee7d51-e210-4803-8590-a19d20d7f737",
   "metadata": {
    "execution": {
     "iopub.execute_input": "2024-03-01T21:13:26.244846Z",
     "iopub.status.busy": "2024-03-01T21:13:26.244453Z",
     "iopub.status.idle": "2024-03-01T21:13:26.257770Z",
     "shell.execute_reply": "2024-03-01T21:13:26.257093Z",
     "shell.execute_reply.started": "2024-03-01T21:13:26.244818Z"
    },
    "tags": []
   },
   "outputs": [],
   "source": [
    "%matplotlib inline\n",
    "# %load_ext cudf.pandas\n",
    "%config IPCompleter.greedy=True"
   ]
  },
  {
   "cell_type": "code",
   "execution_count": null,
   "id": "f8c3c3ab-913b-4af1-8e4e-4c8609b9d9c0",
   "metadata": {
    "tags": []
   },
   "outputs": [],
   "source": [
    "nltk.download(\"punkt\")\n",
    "nltk.download(\"stopwords\")\n",
    "nltk.download(\"wordnet\")"
   ]
  },
  {
   "cell_type": "code",
   "execution_count": 10,
   "id": "35174b6d-6e1b-4a44-86eb-407f0d14521c",
   "metadata": {
    "execution": {
     "iopub.execute_input": "2024-03-01T21:39:53.591133Z",
     "iopub.status.busy": "2024-03-01T21:39:53.590714Z",
     "iopub.status.idle": "2024-03-01T21:39:53.596748Z",
     "shell.execute_reply": "2024-03-01T21:39:53.595900Z",
     "shell.execute_reply.started": "2024-03-01T21:39:53.591106Z"
    },
    "tags": []
   },
   "outputs": [],
   "source": [
    "def alpha(tokens):\n",
    "    def transform_token(token):\n",
    "        match token:\n",
    "            case \"n't\":\n",
    "                return \"not\"\n",
    "            case \"won't\":\n",
    "                return \"wont\"\n",
    "            case _ if token.isalpha():\n",
    "                return token\n",
    "            case _:\n",
    "                return None\n",
    "\n",
    "    return list(filter(None, map(transform_token, tokens)))\n",
    "\n",
    "\n",
    "def remove_stop_words(tokens):\n",
    "    def is_not_stopword(token):\n",
    "        to_remove = stopwords.words(\"english\")\n",
    "        return token not in to_remove\n",
    "\n",
    "    return list(filter(is_not_stopword, tokens))\n",
    "\n",
    "\n",
    "def lemmatize(tokens):\n",
    "    lemmatizer = WordNetLemmatizer()\n",
    "    return \" \".join(map(lemmatizer.lemmatize, tokens))"
   ]
  },
  {
   "cell_type": "code",
   "execution_count": 6,
   "id": "176581b2-e247-4a45-b362-d31c1a03b84c",
   "metadata": {
    "execution": {
     "iopub.execute_input": "2024-03-01T21:14:01.518401Z",
     "iopub.status.busy": "2024-03-01T21:14:01.518007Z",
     "iopub.status.idle": "2024-03-01T21:14:04.090955Z",
     "shell.execute_reply": "2024-03-01T21:14:04.090156Z",
     "shell.execute_reply.started": "2024-03-01T21:14:01.518375Z"
    },
    "tags": []
   },
   "outputs": [],
   "source": [
    "df = pd.DataFrame(\n",
    "    load_dataset(\"alexandreteles/image-generation-intent\")[\"train\"]\n",
    ").dropna()"
   ]
  },
  {
   "cell_type": "code",
   "execution_count": 11,
   "id": "647502c8-c855-44eb-990b-ebe35d466412",
   "metadata": {
    "execution": {
     "iopub.execute_input": "2024-03-01T21:39:55.716752Z",
     "iopub.status.busy": "2024-03-01T21:39:55.716367Z",
     "iopub.status.idle": "2024-03-01T21:41:21.114892Z",
     "shell.execute_reply": "2024-03-01T21:41:21.114194Z",
     "shell.execute_reply.started": "2024-03-01T21:39:55.716724Z"
    },
    "tags": []
   },
   "outputs": [],
   "source": [
    "x = df[\"sentence\"].str.lower().apply(word_tokenize).apply(alpha).apply(remove_stop_words).apply(lemmatize)\n",
    "y = df[\"image_intent\"]"
   ]
  },
  {
   "cell_type": "code",
   "execution_count": 28,
   "id": "0225da78-cd19-4f9a-a093-d6440dd697af",
   "metadata": {
    "execution": {
     "iopub.execute_input": "2024-03-01T23:45:53.095790Z",
     "iopub.status.busy": "2024-03-01T23:45:53.095388Z",
     "iopub.status.idle": "2024-03-01T23:45:55.023226Z",
     "shell.execute_reply": "2024-03-01T23:45:55.022441Z",
     "shell.execute_reply.started": "2024-03-01T23:45:53.095762Z"
    },
    "tags": []
   },
   "outputs": [],
   "source": [
    "x_train, x_temp, y_train, y_temp = train_test_split(\n",
    "    x, y, test_size=0.3, random_state=42, stratify=y\n",
    ")\n",
    "x_test, x_val, y_test, y_val = train_test_split(\n",
    "    x_temp, y_temp, test_size=0.5, random_state=42, stratify=y_temp\n",
    ")\n",
    "\n",
    "vectorizer = TfidfVectorizer(strip_accents=\"ascii\")\n",
    "\n",
    "x_train = vectorizer.fit_transform(x_train).toarray()\n",
    "x_test = vectorizer.transform(x_test).toarray()\n",
    "x_val = vectorizer.transform(x_val).toarray()"
   ]
  },
  {
   "cell_type": "code",
   "execution_count": 13,
   "id": "98a68d7c-3d46-4749-be4d-c9d1648dbd54",
   "metadata": {
    "execution": {
     "iopub.execute_input": "2024-03-01T22:07:00.155964Z",
     "iopub.status.busy": "2024-03-01T22:07:00.155579Z",
     "iopub.status.idle": "2024-03-01T22:07:22.765770Z",
     "shell.execute_reply": "2024-03-01T22:07:22.765009Z",
     "shell.execute_reply.started": "2024-03-01T22:07:00.155935Z"
    },
    "tags": []
   },
   "outputs": [],
   "source": [
    "# model = MultinomialNB().fit(x_train, y_train)\n",
    "\n",
    "from sklearn.ensemble import RandomForestClassifier\n",
    "\n",
    "clf = RandomForestClassifier(n_estimators=10).fit(x_train, y_train)"
   ]
  },
  {
   "cell_type": "code",
   "execution_count": 14,
   "id": "39e9c123-93d7-4dea-b3d0-86b5165c6f2d",
   "metadata": {
    "execution": {
     "iopub.execute_input": "2024-03-01T22:36:24.096820Z",
     "iopub.status.busy": "2024-03-01T22:36:24.096425Z",
     "iopub.status.idle": "2024-03-01T22:36:25.163141Z",
     "shell.execute_reply": "2024-03-01T22:36:25.162358Z",
     "shell.execute_reply.started": "2024-03-01T22:36:24.096793Z"
    },
    "tags": []
   },
   "outputs": [
    {
     "name": "stdout",
     "output_type": "stream",
     "text": [
      "Test Set Evaluation:\n",
      "\n",
      "Accuracy: 0.9294268214644849\n",
      "\n",
      "ROC AUC Score: 0.9293317753572312\n",
      "\n",
      "Confusion Matrix: \n",
      "[[5189  350]\n",
      " [ 422 4978]]\n",
      "\n",
      "Classification report: \n",
      "              precision    recall  f1-score   support\n",
      "\n",
      "         0.0       0.92      0.94      0.93      5539\n",
      "         1.0       0.93      0.92      0.93      5400\n",
      "\n",
      "    accuracy                           0.93     10939\n",
      "   macro avg       0.93      0.93      0.93     10939\n",
      "weighted avg       0.93      0.93      0.93     10939\n",
      "\n",
      "\n"
     ]
    },
    {
     "data": {
      "image/png": "[encoded data removed]",
      "text/plain": [
       "<Figure size 640x480 with 1 Axes>"
      ]
     },
     "metadata": {},
     "output_type": "display_data"
    },
    {
     "name": "stdout",
     "output_type": "stream",
     "text": [
      "Validation Set Evaluation:\n",
      "\n",
      "Accuracy: 0.9210165463022214\n",
      "\n",
      "ROC AUC Score: 0.9209062004774227\n",
      "\n",
      "Confusion Matrix: \n",
      "[[5149  390]\n",
      " [ 474 4926]]\n",
      "\n",
      "Classification report: \n",
      "              precision    recall  f1-score   support\n",
      "\n",
      "         0.0       0.92      0.93      0.92      5539\n",
      "         1.0       0.93      0.91      0.92      5400\n",
      "\n",
      "    accuracy                           0.92     10939\n",
      "   macro avg       0.92      0.92      0.92     10939\n",
      "weighted avg       0.92      0.92      0.92     10939\n",
      "\n",
      "\n"
     ]
    },
    {
     "data": {
      "image/png": "[encoded data removed]",
      "text/plain": [
       "<Figure size 640x480 with 1 Axes>"
      ]
     },
     "metadata": {},
     "output_type": "display_data"
    }
   ],
   "source": [
    "y_pred_test = clf.predict(x_test)\n",
    "y_pred_val = clf.predict(x_val)\n",
    "\n",
    "fpr_test, tpr_test, thresholds_test = roc_curve(y_test, y_pred_test)\n",
    "fpr_val, tpr_val, thresholds_val = roc_curve(y_val, y_pred_val)\n",
    "\n",
    "print(\"Test Set Evaluation:\\n\")\n",
    "print(f\"Accuracy: {accuracy_score(y_test, y_pred_test)}\\n\")\n",
    "print(f\"ROC AUC Score: {roc_auc_score(y_test, y_pred_test)}\\n\")\n",
    "print(f\"Confusion Matrix: \\n{confusion_matrix(y_test, y_pred_test)}\\n\")\n",
    "print(f\"Classification report: \\n{classification_report(y_test, y_pred_test)}\\n\")\n",
    "\n",
    "plt.plot(fpr_test, tpr_test)\n",
    "plt.plot([0, 1], [0, 1], \"r--\")\n",
    "plt.xlim([0.0, 1.0])\n",
    "plt.ylim([0.0, 1.05])\n",
    "plt.xlabel(\"FP Rate\")\n",
    "plt.ylabel(\"TP Rate\")\n",
    "plt.title(\"ROC\")\n",
    "plt.show()\n",
    "\n",
    "print(\"Validation Set Evaluation:\\n\")\n",
    "print(f\"Accuracy: {accuracy_score(y_val, y_pred_val)}\\n\")\n",
    "print(f\"ROC AUC Score: {roc_auc_score(y_val, y_pred_val)}\\n\")\n",
    "print(f\"Confusion Matrix: \\n{confusion_matrix(y_val, y_pred_val)}\\n\")\n",
    "print(f\"Classification report: \\n{classification_report(y_val, y_pred_val)}\\n\")\n",
    "\n",
    "plt.plot(fpr_val, tpr_val)\n",
    "plt.plot([0, 1], [0, 1], \"r--\")\n",
    "plt.xlim([0.0, 1.0])\n",
    "plt.ylim([0.0, 1.05])\n",
    "plt.xlabel(\"FP Rate\")\n",
    "plt.ylabel(\"TP Rate\")\n",
    "plt.title(\"ROC\")\n",
    "plt.show()"
   ]
  },
  {
   "cell_type": "code",
   "execution_count": 167,
   "id": "f2967e11-ab92-4a2d-99d2-79f1a29d7336",
   "metadata": {
    "execution": {
     "iopub.execute_input": "2024-03-01T21:10:39.626414Z",
     "iopub.status.busy": "2024-03-01T21:10:39.626017Z",
     "iopub.status.idle": "2024-03-01T21:10:39.634617Z",
     "shell.execute_reply": "2024-03-01T21:10:39.633813Z",
     "shell.execute_reply.started": "2024-03-01T21:10:39.626386Z"
    },
    "tags": []
   },
   "outputs": [
    {
     "name": "stdout",
     "output_type": "stream",
     "text": [
      "[0.]\n"
     ]
    }
   ],
   "source": [
    "# %%timeit -r 3\n",
    "\n",
    "text = vectorizer.transform([\"How are you?\"]).toarray()\n",
    "\n",
    "prediction = clf.predict(text)\n",
    "\n",
    "print(prediction)"
   ]
  },
  {
   "cell_type": "code",
   "execution_count": null,
   "id": "b3026e2d-b529-47ae-ad76-464f10633f0b",
   "metadata": {
    "tags": []
   },
   "outputs": [],
   "source": [
    "from flaml import AutoML\n",
    "automl = AutoML()\n",
    "\n",
    "settings = {\n",
    "    \"time_budget\": 1200,\n",
    "    \"metric\": 'roc_auc',\n",
    "    \"task\": 'classification',\n",
    "    \"log_file_name\": 'image_intent.log',\n",
    "    \"early_stop\": True\n",
    "}\n",
    "\n",
    "automl.fit(X_train=x_train, y_train=y_train, **settings)"
   ]
  },
  {
   "cell_type": "code",
   "execution_count": 35,
   "id": "da55f802-da27-4a7c-87b9-58ec42dcc702",
   "metadata": {
    "execution": {
     "iopub.execute_input": "2024-03-02T01:06:36.790977Z",
     "iopub.status.busy": "2024-03-02T01:06:36.790526Z",
     "iopub.status.idle": "2024-03-02T01:06:36.797599Z",
     "shell.execute_reply": "2024-03-02T01:06:36.796887Z",
     "shell.execute_reply.started": "2024-03-02T01:06:36.790948Z"
    },
    "tags": []
   },
   "outputs": [
    {
     "data": {
      "text/html": [
       "<style>#sk-container-id-4 {\n",
       "  /* Definition of color scheme common for light and dark mode */\n",
       "  --sklearn-color-text: black;\n",
       "  --sklearn-color-line: gray;\n",
       "  /* Definition of color scheme for unfitted estimators */\n",
       "  --sklearn-color-unfitted-level-0: #fff5e6;\n",
       "  --sklearn-color-unfitted-level-1: #f6e4d2;\n",
       "  --sklearn-color-unfitted-level-2: #ffe0b3;\n",
       "  --sklearn-color-unfitted-level-3: chocolate;\n",
       "  /* Definition of color scheme for fitted estimators */\n",
       "  --sklearn-color-fitted-level-0: #f0f8ff;\n",
       "  --sklearn-color-fitted-level-1: #d4ebff;\n",
       "  --sklearn-color-fitted-level-2: #b3dbfd;\n",
       "  --sklearn-color-fitted-level-3: cornflowerblue;\n",
       "\n",
       "  /* Specific color for light theme */\n",
       "  --sklearn-color-text-on-default-background: var(--sg-text-color, var(--theme-code-foreground, var(--jp-content-font-color1, black)));\n",
       "  --sklearn-color-background: var(--sg-background-color, var(--theme-background, var(--jp-layout-color0, white)));\n",
       "  --sklearn-color-border-box: var(--sg-text-color, var(--theme-code-foreground, var(--jp-content-font-color1, black)));\n",
       "  --sklearn-color-icon: #696969;\n",
       "\n",
       "  @media (prefers-color-scheme: dark) {\n",
       "    /* Redefinition of color scheme for dark theme */\n",
       "    --sklearn-color-text-on-default-background: var(--sg-text-color, var(--theme-code-foreground, var(--jp-content-font-color1, white)));\n",
       "    --sklearn-color-background: var(--sg-background-color, var(--theme-background, var(--jp-layout-color0, #111)));\n",
       "    --sklearn-color-border-box: var(--sg-text-color, var(--theme-code-foreground, var(--jp-content-font-color1, white)));\n",
       "    --sklearn-color-icon: #878787;\n",
       "  }\n",
       "}\n",
       "\n",
       "#sk-container-id-4 {\n",
       "  color: var(--sklearn-color-text);\n",
       "}\n",
       "\n",
       "#sk-container-id-4 pre {\n",
       "  padding: 0;\n",
       "}\n",
       "\n",
       "#sk-container-id-4 input.sk-hidden--visually {\n",
       "  border: 0;\n",
       "  clip: rect(1px 1px 1px 1px);\n",
       "  clip: rect(1px, 1px, 1px, 1px);\n",
       "  height: 1px;\n",
       "  margin: -1px;\n",
       "  overflow: hidden;\n",
       "  padding: 0;\n",
       "  position: absolute;\n",
       "  width: 1px;\n",
       "}\n",
       "\n",
       "#sk-container-id-4 div.sk-dashed-wrapped {\n",
       "  border: 1px dashed var(--sklearn-color-line);\n",
       "  margin: 0 0.4em 0.5em 0.4em;\n",
       "  box-sizing: border-box;\n",
       "  padding-bottom: 0.4em;\n",
       "  background-color: var(--sklearn-color-background);\n",
       "}\n",
       "\n",
       "#sk-container-id-4 div.sk-container {\n",
       "  /* jupyter's `normalize.less` sets `[hidden] { display: none; }`\n",
       "     but bootstrap.min.css set `[hidden] { display: none !important; }`\n",
       "     so we also need the `!important` here to be able to override the\n",
       "     default hidden behavior on the sphinx rendered scikit-learn.org.\n",
       "     See: https://github.com/scikit-learn/scikit-learn/issues/21755 */\n",
       "  display: inline-block !important;\n",
       "  position: relative;\n",
       "}\n",
       "\n",
       "#sk-container-id-4 div.sk-text-repr-fallback {\n",
       "  display: none;\n",
       "}\n",
       "\n",
       "div.sk-parallel-item,\n",
       "div.sk-serial,\n",
       "div.sk-item {\n",
       "  /* draw centered vertical line to link estimators */\n",
       "  background-image: linear-gradient(var(--sklearn-color-text-on-default-background), var(--sklearn-color-text-on-default-background));\n",
       "  background-size: 2px 100%;\n",
       "  background-repeat: no-repeat;\n",
       "  background-position: center center;\n",
       "}\n",
       "\n",
       "/* Parallel-specific style estimator block */\n",
       "\n",
       "#sk-container-id-4 div.sk-parallel-item::after {\n",
       "  content: \"\";\n",
       "  width: 100%;\n",
       "  border-bottom: 2px solid var(--sklearn-color-text-on-default-background);\n",
       "  flex-grow: 1;\n",
       "}\n",
       "\n",
       "#sk-container-id-4 div.sk-parallel {\n",
       "  display: flex;\n",
       "  align-items: stretch;\n",
       "  justify-content: center;\n",
       "  background-color: var(--sklearn-color-background);\n",
       "  position: relative;\n",
       "}\n",
       "\n",
       "#sk-container-id-4 div.sk-parallel-item {\n",
       "  display: flex;\n",
       "  flex-direction: column;\n",
       "}\n",
       "\n",
       "#sk-container-id-4 div.sk-parallel-item:first-child::after {\n",
       "  align-self: flex-end;\n",
       "  width: 50%;\n",
       "}\n",
       "\n",
       "#sk-container-id-4 div.sk-parallel-item:last-child::after {\n",
       "  align-self: flex-start;\n",
       "  width: 50%;\n",
       "}\n",
       "\n",
       "#sk-container-id-4 div.sk-parallel-item:only-child::after {\n",
       "  width: 0;\n",
       "}\n",
       "\n",
       "/* Serial-specific style estimator block */\n",
       "\n",
       "#sk-container-id-4 div.sk-serial {\n",
       "  display: flex;\n",
       "  flex-direction: column;\n",
       "  align-items: center;\n",
       "  background-color: var(--sklearn-color-background);\n",
       "  padding-right: 1em;\n",
       "  padding-left: 1em;\n",
       "}\n",
       "\n",
       "\n",
       "/* Toggleable style: style used for estimator/Pipeline/ColumnTransformer box that is\n",
       "clickable and can be expanded/collapsed.\n",
       "- Pipeline and ColumnTransformer use this feature and define the default style\n",
       "- Estimators will overwrite some part of the style using the `sk-estimator` class\n",
       "*/\n",
       "\n",
       "/* Pipeline and ColumnTransformer style (default) */\n",
       "\n",
       "#sk-container-id-4 div.sk-toggleable {\n",
       "  /* Default theme specific background. It is overwritten whether we have a\n",
       "  specific estimator or a Pipeline/ColumnTransformer */\n",
       "  background-color: var(--sklearn-color-background);\n",
       "}\n",
       "\n",
       "/* Toggleable label */\n",
       "#sk-container-id-4 label.sk-toggleable__label {\n",
       "  cursor: pointer;\n",
       "  display: block;\n",
       "  width: 100%;\n",
       "  margin-bottom: 0;\n",
       "  padding: 0.5em;\n",
       "  box-sizing: border-box;\n",
       "  text-align: center;\n",
       "}\n",
       "\n",
       "#sk-container-id-4 label.sk-toggleable__label-arrow:before {\n",
       "  /* Arrow on the left of the label */\n",
       "  content: \"▸\";\n",
       "  float: left;\n",
       "  margin-right: 0.25em;\n",
       "  color: var(--sklearn-color-icon);\n",
       "}\n",
       "\n",
       "#sk-container-id-4 label.sk-toggleable__label-arrow:hover:before {\n",
       "  color: var(--sklearn-color-text);\n",
       "}\n",
       "\n",
       "/* Toggleable content - dropdown */\n",
       "\n",
       "#sk-container-id-4 div.sk-toggleable__content {\n",
       "  max-height: 0;\n",
       "  max-width: 0;\n",
       "  overflow: hidden;\n",
       "  text-align: left;\n",
       "  /* unfitted */\n",
       "  background-color: var(--sklearn-color-unfitted-level-0);\n",
       "}\n",
       "\n",
       "#sk-container-id-4 div.sk-toggleable__content.fitted {\n",
       "  /* fitted */\n",
       "  background-color: var(--sklearn-color-fitted-level-0);\n",
       "}\n",
       "\n",
       "#sk-container-id-4 div.sk-toggleable__content pre {\n",
       "  margin: 0.2em;\n",
       "  border-radius: 0.25em;\n",
       "  color: var(--sklearn-color-text);\n",
       "  /* unfitted */\n",
       "  background-color: var(--sklearn-color-unfitted-level-0);\n",
       "}\n",
       "\n",
       "#sk-container-id-4 div.sk-toggleable__content.fitted pre {\n",
       "  /* unfitted */\n",
       "  background-color: var(--sklearn-color-fitted-level-0);\n",
       "}\n",
       "\n",
       "#sk-container-id-4 input.sk-toggleable__control:checked~div.sk-toggleable__content {\n",
       "  /* Expand drop-down */\n",
       "  max-height: 200px;\n",
       "  max-width: 100%;\n",
       "  overflow: auto;\n",
       "}\n",
       "\n",
       "#sk-container-id-4 input.sk-toggleable__control:checked~label.sk-toggleable__label-arrow:before {\n",
       "  content: \"▾\";\n",
       "}\n",
       "\n",
       "/* Pipeline/ColumnTransformer-specific style */\n",
       "\n",
       "#sk-container-id-4 div.sk-label input.sk-toggleable__control:checked~label.sk-toggleable__label {\n",
       "  color: var(--sklearn-color-text);\n",
       "  background-color: var(--sklearn-color-unfitted-level-2);\n",
       "}\n",
       "\n",
       "#sk-container-id-4 div.sk-label.fitted input.sk-toggleable__control:checked~label.sk-toggleable__label {\n",
       "  background-color: var(--sklearn-color-fitted-level-2);\n",
       "}\n",
       "\n",
       "/* Estimator-specific style */\n",
       "\n",
       "/* Colorize estimator box */\n",
       "#sk-container-id-4 div.sk-estimator input.sk-toggleable__control:checked~label.sk-toggleable__label {\n",
       "  /* unfitted */\n",
       "  background-color: var(--sklearn-color-unfitted-level-2);\n",
       "}\n",
       "\n",
       "#sk-container-id-4 div.sk-estimator.fitted input.sk-toggleable__control:checked~label.sk-toggleable__label {\n",
       "  /* fitted */\n",
       "  background-color: var(--sklearn-color-fitted-level-2);\n",
       "}\n",
       "\n",
       "#sk-container-id-4 div.sk-label label.sk-toggleable__label,\n",
       "#sk-container-id-4 div.sk-label label {\n",
       "  /* The background is the default theme color */\n",
       "  color: var(--sklearn-color-text-on-default-background);\n",
       "}\n",
       "\n",
       "/* On hover, darken the color of the background */\n",
       "#sk-container-id-4 div.sk-label:hover label.sk-toggleable__label {\n",
       "  color: var(--sklearn-color-text);\n",
       "  background-color: var(--sklearn-color-unfitted-level-2);\n",
       "}\n",
       "\n",
       "/* Label box, darken color on hover, fitted */\n",
       "#sk-container-id-4 div.sk-label.fitted:hover label.sk-toggleable__label.fitted {\n",
       "  color: var(--sklearn-color-text);\n",
       "  background-color: var(--sklearn-color-fitted-level-2);\n",
       "}\n",
       "\n",
       "/* Estimator label */\n",
       "\n",
       "#sk-container-id-4 div.sk-label label {\n",
       "  font-family: monospace;\n",
       "  font-weight: bold;\n",
       "  display: inline-block;\n",
       "  line-height: 1.2em;\n",
       "}\n",
       "\n",
       "#sk-container-id-4 div.sk-label-container {\n",
       "  text-align: center;\n",
       "}\n",
       "\n",
       "/* Estimator-specific */\n",
       "#sk-container-id-4 div.sk-estimator {\n",
       "  font-family: monospace;\n",
       "  border: 1px dotted var(--sklearn-color-border-box);\n",
       "  border-radius: 0.25em;\n",
       "  box-sizing: border-box;\n",
       "  margin-bottom: 0.5em;\n",
       "  /* unfitted */\n",
       "  background-color: var(--sklearn-color-unfitted-level-0);\n",
       "}\n",
       "\n",
       "#sk-container-id-4 div.sk-estimator.fitted {\n",
       "  /* fitted */\n",
       "  background-color: var(--sklearn-color-fitted-level-0);\n",
       "}\n",
       "\n",
       "/* on hover */\n",
       "#sk-container-id-4 div.sk-estimator:hover {\n",
       "  /* unfitted */\n",
       "  background-color: var(--sklearn-color-unfitted-level-2);\n",
       "}\n",
       "\n",
       "#sk-container-id-4 div.sk-estimator.fitted:hover {\n",
       "  /* fitted */\n",
       "  background-color: var(--sklearn-color-fitted-level-2);\n",
       "}\n",
       "\n",
       "/* Specification for estimator info (e.g. \"i\" and \"?\") */\n",
       "\n",
       "/* Common style for \"i\" and \"?\" */\n",
       "\n",
       ".sk-estimator-doc-link,\n",
       "a:link.sk-estimator-doc-link,\n",
       "a:visited.sk-estimator-doc-link {\n",
       "  float: right;\n",
       "  font-size: smaller;\n",
       "  line-height: 1em;\n",
       "  font-family: monospace;\n",
       "  background-color: var(--sklearn-color-background);\n",
       "  border-radius: 1em;\n",
       "  height: 1em;\n",
       "  width: 1em;\n",
       "  text-decoration: none !important;\n",
       "  margin-left: 1ex;\n",
       "  /* unfitted */\n",
       "  border: var(--sklearn-color-unfitted-level-1) 1pt solid;\n",
       "  color: var(--sklearn-color-unfitted-level-1);\n",
       "}\n",
       "\n",
       ".sk-estimator-doc-link.fitted,\n",
       "a:link.sk-estimator-doc-link.fitted,\n",
       "a:visited.sk-estimator-doc-link.fitted {\n",
       "  /* fitted */\n",
       "  border: var(--sklearn-color-fitted-level-1) 1pt solid;\n",
       "  color: var(--sklearn-color-fitted-level-1);\n",
       "}\n",
       "\n",
       "/* On hover */\n",
       "div.sk-estimator:hover .sk-estimator-doc-link:hover,\n",
       ".sk-estimator-doc-link:hover,\n",
       "div.sk-label-container:hover .sk-estimator-doc-link:hover,\n",
       ".sk-estimator-doc-link:hover {\n",
       "  /* unfitted */\n",
       "  background-color: var(--sklearn-color-unfitted-level-3);\n",
       "  color: var(--sklearn-color-background);\n",
       "  text-decoration: none;\n",
       "}\n",
       "\n",
       "div.sk-estimator.fitted:hover .sk-estimator-doc-link.fitted:hover,\n",
       ".sk-estimator-doc-link.fitted:hover,\n",
       "div.sk-label-container:hover .sk-estimator-doc-link.fitted:hover,\n",
       ".sk-estimator-doc-link.fitted:hover {\n",
       "  /* fitted */\n",
       "  background-color: var(--sklearn-color-fitted-level-3);\n",
       "  color: var(--sklearn-color-background);\n",
       "  text-decoration: none;\n",
       "}\n",
       "\n",
       "/* Span, style for the box shown on hovering the info icon */\n",
       ".sk-estimator-doc-link span {\n",
       "  display: none;\n",
       "  z-index: 9999;\n",
       "  position: relative;\n",
       "  font-weight: normal;\n",
       "  right: .2ex;\n",
       "  padding: .5ex;\n",
       "  margin: .5ex;\n",
       "  width: min-content;\n",
       "  min-width: 20ex;\n",
       "  max-width: 50ex;\n",
       "  color: var(--sklearn-color-text);\n",
       "  box-shadow: 2pt 2pt 4pt #999;\n",
       "  /* unfitted */\n",
       "  background: var(--sklearn-color-unfitted-level-0);\n",
       "  border: .5pt solid var(--sklearn-color-unfitted-level-3);\n",
       "}\n",
       "\n",
       ".sk-estimator-doc-link.fitted span {\n",
       "  /* fitted */\n",
       "  background: var(--sklearn-color-fitted-level-0);\n",
       "  border: var(--sklearn-color-fitted-level-3);\n",
       "}\n",
       "\n",
       ".sk-estimator-doc-link:hover span {\n",
       "  display: block;\n",
       "}\n",
       "\n",
       "/* \"?\"-specific style due to the `<a>` HTML tag */\n",
       "\n",
       "#sk-container-id-4 a.estimator_doc_link {\n",
       "  float: right;\n",
       "  font-size: 1rem;\n",
       "  line-height: 1em;\n",
       "  font-family: monospace;\n",
       "  background-color: var(--sklearn-color-background);\n",
       "  border-radius: 1rem;\n",
       "  height: 1rem;\n",
       "  width: 1rem;\n",
       "  text-decoration: none;\n",
       "  /* unfitted */\n",
       "  color: var(--sklearn-color-unfitted-level-1);\n",
       "  border: var(--sklearn-color-unfitted-level-1) 1pt solid;\n",
       "}\n",
       "\n",
       "#sk-container-id-4 a.estimator_doc_link.fitted {\n",
       "  /* fitted */\n",
       "  border: var(--sklearn-color-fitted-level-1) 1pt solid;\n",
       "  color: var(--sklearn-color-fitted-level-1);\n",
       "}\n",
       "\n",
       "/* On hover */\n",
       "#sk-container-id-4 a.estimator_doc_link:hover {\n",
       "  /* unfitted */\n",
       "  background-color: var(--sklearn-color-unfitted-level-3);\n",
       "  color: var(--sklearn-color-background);\n",
       "  text-decoration: none;\n",
       "}\n",
       "\n",
       "#sk-container-id-4 a.estimator_doc_link.fitted:hover {\n",
       "  /* fitted */\n",
       "  background-color: var(--sklearn-color-fitted-level-3);\n",
       "}\n",
       "</style><div id=\"sk-container-id-4\" class=\"sk-top-container\"><div class=\"sk-text-repr-fallback\"><pre>LGBMClassifier(colsample_bytree=0.49992209956020583,\n",
       "               learning_rate=0.03747093469200654, max_bin=127,\n",
       "               min_child_samples=2, n_estimators=1, n_jobs=-1, num_leaves=97,\n",
       "               reg_alpha=0.02046640007359354, reg_lambda=0.006250841267358658,\n",
       "               verbose=-1)</pre><b>In a Jupyter environment, please rerun this cell to show the HTML representation or trust the notebook. <br />On GitHub, the HTML representation is unable to render, please try loading this page with nbviewer.org.</b></div><div class=\"sk-container\" hidden><div class=\"sk-item\"><div class=\"sk-estimator fitted sk-toggleable\"><input class=\"sk-toggleable__control sk-hidden--visually\" id=\"sk-estimator-id-4\" type=\"checkbox\" checked><label for=\"sk-estimator-id-4\" class=\"sk-toggleable__label fitted sk-toggleable__label-arrow fitted\">&nbsp;LGBMClassifier<span class=\"sk-estimator-doc-link fitted\">i<span>Fitted</span></span></label><div class=\"sk-toggleable__content fitted\"><pre>LGBMClassifier(colsample_bytree=0.49992209956020583,\n",
       "               learning_rate=0.03747093469200654, max_bin=127,\n",
       "               min_child_samples=2, n_estimators=1, n_jobs=-1, num_leaves=97,\n",
       "               reg_alpha=0.02046640007359354, reg_lambda=0.006250841267358658,\n",
       "               verbose=-1)</pre></div> </div></div></div></div>"
      ],
      "text/plain": [
       "LGBMClassifier(colsample_bytree=0.49992209956020583,\n",
       "               learning_rate=0.03747093469200654, max_bin=127,\n",
       "               min_child_samples=2, n_estimators=1, n_jobs=-1, num_leaves=97,\n",
       "               reg_alpha=0.02046640007359354, reg_lambda=0.006250841267358658,\n",
       "               verbose=-1)"
      ]
     },
     "execution_count": 35,
     "metadata": {},
     "output_type": "execute_result"
    }
   ],
   "source": [
    "automl.model.estimator"
   ]
  },
  {
   "cell_type": "code",
   "execution_count": 36,
   "id": "c8ad6748-d550-497f-b571-8f00ffcce5e7",
   "metadata": {
    "execution": {
     "iopub.execute_input": "2024-03-02T01:06:41.344431Z",
     "iopub.status.busy": "2024-03-02T01:06:41.344022Z",
     "iopub.status.idle": "2024-03-02T01:06:42.524130Z",
     "shell.execute_reply": "2024-03-02T01:06:42.523285Z",
     "shell.execute_reply.started": "2024-03-02T01:06:41.344403Z"
    },
    "tags": []
   },
   "outputs": [
    {
     "name": "stdout",
     "output_type": "stream",
     "text": [
      "Predicted labels [0. 1. 1. ... 0. 1. 0.]\n",
      "True labels 13797    0.0\n",
      "31883    1.0\n",
      "53897    1.0\n",
      "26308    1.0\n",
      "49162    0.0\n",
      "        ... \n",
      "35402    1.0\n",
      "59306    1.0\n",
      "5211     0.0\n",
      "59148    1.0\n",
      "65433    0.0\n",
      "Name: image_intent, Length: 10939, dtype: float64\n"
     ]
    }
   ],
   "source": [
    "y_pred = automl.predict(x_test)\n",
    "print('Predicted labels', y_pred)\n",
    "print('True labels', y_test)\n",
    "y_pred_proba = automl.predict_proba(x_test)[:,1]"
   ]
  },
  {
   "cell_type": "code",
   "execution_count": 37,
   "id": "48e5677a-1f60-44c9-903a-eacd41b720f8",
   "metadata": {
    "execution": {
     "iopub.execute_input": "2024-03-02T01:06:44.100874Z",
     "iopub.status.busy": "2024-03-02T01:06:44.100474Z",
     "iopub.status.idle": "2024-03-02T01:06:44.215132Z",
     "shell.execute_reply": "2024-03-02T01:06:44.214310Z",
     "shell.execute_reply.started": "2024-03-02T01:06:44.100848Z"
    },
    "tags": []
   },
   "outputs": [],
   "source": [
    "import pickle\n",
    "with open('automl.pkl', 'wb') as f:\n",
    "    pickle.dump(automl, f, pickle.HIGHEST_PROTOCOL)"
   ]
  },
  {
   "cell_type": "code",
   "execution_count": 38,
   "id": "a0995dce-a5ad-464a-9cba-48e5fc81cc90",
   "metadata": {
    "execution": {
     "iopub.execute_input": "2024-03-02T01:09:47.377655Z",
     "iopub.status.busy": "2024-03-02T01:09:47.376996Z",
     "iopub.status.idle": "2024-03-02T01:09:47.382225Z",
     "shell.execute_reply": "2024-03-02T01:09:47.381411Z",
     "shell.execute_reply.started": "2024-03-02T01:09:47.377627Z"
    },
    "tags": []
   },
   "outputs": [
    {
     "name": "stdout",
     "output_type": "stream",
     "text": [
      "LGBMClassifier(colsample_bytree=0.49992209956020583,\n",
      "               learning_rate=0.03747093469200654, max_bin=127,\n",
      "               min_child_samples=2, n_estimators=1, n_jobs=-1, num_leaves=97,\n",
      "               reg_alpha=0.02046640007359354, reg_lambda=0.006250841267358658,\n",
      "               verbose=-1)\n"
     ]
    }
   ],
   "source": [
    "print(automl.model.estimator)"
   ]
  },
  {
   "cell_type": "code",
   "execution_count": 39,
   "id": "4ff20a62-99d5-4e4a-8b71-c6d1bc0ae0e9",
   "metadata": {
    "execution": {
     "iopub.execute_input": "2024-03-02T01:10:54.293757Z",
     "iopub.status.busy": "2024-03-02T01:10:54.293347Z",
     "iopub.status.idle": "2024-03-02T01:10:56.888285Z",
     "shell.execute_reply": "2024-03-02T01:10:56.887552Z",
     "shell.execute_reply.started": "2024-03-02T01:10:54.293726Z"
    },
    "tags": []
   },
   "outputs": [],
   "source": [
    "from hummingbird.ml import convert, load"
   ]
  },
  {
   "cell_type": "code",
   "execution_count": 54,
   "id": "1cecf027-63d7-4df8-86c2-e75ed2928e2d",
   "metadata": {
    "execution": {
     "iopub.execute_input": "2024-03-02T01:30:41.568772Z",
     "iopub.status.busy": "2024-03-02T01:30:41.568378Z",
     "iopub.status.idle": "2024-03-02T01:31:06.616861Z",
     "shell.execute_reply": "2024-03-02T01:31:06.616129Z",
     "shell.execute_reply.started": "2024-03-02T01:30:41.568743Z"
    },
    "tags": []
   },
   "outputs": [],
   "source": [
    "onnx_model = convert(automl.model.estimator, 'onnx', x_val)\n",
    "torch_model = convert(automl.model.estimator, 'pytorch')"
   ]
  },
  {
   "cell_type": "code",
   "execution_count": 55,
   "id": "5c5e4457-3529-498d-a355-53aa3bc66901",
   "metadata": {
    "execution": {
     "iopub.execute_input": "2024-03-02T01:31:09.461478Z",
     "iopub.status.busy": "2024-03-02T01:31:09.461067Z",
     "iopub.status.idle": "2024-03-02T01:31:13.059014Z",
     "shell.execute_reply": "2024-03-02T01:31:13.058094Z",
     "shell.execute_reply.started": "2024-03-02T01:31:09.461449Z"
    },
    "tags": []
   },
   "outputs": [
    {
     "name": "stdout",
     "output_type": "stream",
     "text": [
      "4.43 ms ± 63.6 µs per loop (mean ± std. dev. of 7 runs, 100 loops each)\n"
     ]
    }
   ],
   "source": [
    "%%timeit 3\n",
    "\n",
    "onnx_model.predict(vectorizer.transform([\"Can you show me a picture of yourself?\"]).toarray())"
   ]
  },
  {
   "cell_type": "code",
   "execution_count": 70,
   "id": "66a528ac-ac14-4819-8cc9-d95ddab4f991",
   "metadata": {
    "execution": {
     "iopub.execute_input": "2024-03-02T01:53:04.882533Z",
     "iopub.status.busy": "2024-03-02T01:53:04.882135Z",
     "iopub.status.idle": "2024-03-02T01:53:09.440539Z",
     "shell.execute_reply": "2024-03-02T01:53:09.439677Z",
     "shell.execute_reply.started": "2024-03-02T01:53:04.882506Z"
    },
    "tags": []
   },
   "outputs": [
    {
     "name": "stdout",
     "output_type": "stream",
     "text": [
      "5.63 ms ± 187 µs per loop (mean ± std. dev. of 7 runs, 100 loops each)\n"
     ]
    }
   ],
   "source": [
    "%%timeit 3\n",
    "\n",
    "torch_model.predict(vectorizer.transform([\"Can you show me a picture of yourself?\"]).toarray())"
   ]
  },
  {
   "cell_type": "code",
   "execution_count": 66,
   "id": "8c0d07ab-2125-4bbc-ad4c-90fa2cdc1f8f",
   "metadata": {
    "execution": {
     "iopub.execute_input": "2024-03-02T01:46:57.093528Z",
     "iopub.status.busy": "2024-03-02T01:46:57.093116Z",
     "iopub.status.idle": "2024-03-02T01:46:57.109576Z",
     "shell.execute_reply": "2024-03-02T01:46:57.108780Z",
     "shell.execute_reply.started": "2024-03-02T01:46:57.093500Z"
    },
    "tags": []
   },
   "outputs": [],
   "source": [
    "import onnx\n",
    "\n",
    "onnx.save(onnx_model.model, \"./intent.onnx\")"
   ]
  },
  {
   "cell_type": "code",
   "execution_count": 68,
   "id": "e2d75c7e-5d08-42c8-a7e4-a3afa0fbfe4e",
   "metadata": {
    "execution": {
     "iopub.execute_input": "2024-03-02T01:48:41.183843Z",
     "iopub.status.busy": "2024-03-02T01:48:41.183452Z",
     "iopub.status.idle": "2024-03-02T01:48:41.191674Z",
     "shell.execute_reply": "2024-03-02T01:48:41.190749Z",
     "shell.execute_reply.started": "2024-03-02T01:48:41.183818Z"
    },
    "tags": []
   },
   "outputs": [],
   "source": [
    "import torch\n",
    "\n",
    "torch.save(torch_model, \"./intent.pkl\")"
   ]
  },
  {
   "cell_type": "code",
   "execution_count": 69,
   "id": "908af8e6-f7cf-4e8e-a7c7-42cce9cb7632",
   "metadata": {
    "execution": {
     "iopub.execute_input": "2024-03-02T01:48:57.176136Z",
     "iopub.status.busy": "2024-03-02T01:48:57.175735Z",
     "iopub.status.idle": "2024-03-02T01:48:57.180375Z",
     "shell.execute_reply": "2024-03-02T01:48:57.179509Z",
     "shell.execute_reply.started": "2024-03-02T01:48:57.176110Z"
    },
    "tags": []
   },
   "outputs": [
    {
     "name": "stdout",
     "output_type": "stream",
     "text": [
      "<hummingbird.ml.containers.sklearn.pytorch_containers.PyTorchSklearnContainerClassification object at 0x7f5046a14820>\n"
     ]
    }
   ],
   "source": [
    "print(torch_model)"
   ]
  },
  {
   "cell_type": "code",
   "execution_count": null,
   "id": "107dac20-4652-4f2a-b9f6-48a81d8b078d",
   "metadata": {},
   "outputs": [],
   "source": []
  }
 ],
 "metadata": {
  "kernelspec": {
   "display_name": "saturn (Python 3)",
   "language": "python",
   "name": "python3"
  },
  "language_info": {
   "codemirror_mode": {
    "name": "ipython",
    "version": 3
   },
   "file_extension": ".py",
   "mimetype": "text/x-python",
   "name": "python",
   "nbconvert_exporter": "python",
   "pygments_lexer": "ipython3",
   "version": "3.10.13"
  }
 },
 "nbformat": 4,
 "nbformat_minor": 5
}
